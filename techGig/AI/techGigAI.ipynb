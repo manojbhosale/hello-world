{
 "cells": [
  {
   "cell_type": "markdown",
   "metadata": {},
   "source": [
    "IPL prediction"
   ]
  },
  {
   "cell_type": "code",
   "execution_count": 2,
   "metadata": {
    "collapsed": false
   },
   "outputs": [
    {
     "name": "stdout",
     "output_type": "stream",
     "text": [
      "C:\\Users\\manojkumar_bhosale\\Desktop\\MachineLearning\\codeGladiator\\cg-ai-hackathon-dataset\\cg-ai-hackathon-dataset\n"
     ]
    }
   ],
   "source": [
    "%cd C:\\Users\\manojkumar_bhosale\\Desktop\\MachineLearning\\codeGladiator\\cg-ai-hackathon-dataset\\cg-ai-hackathon-dataset"
   ]
  },
  {
   "cell_type": "code",
   "execution_count": 3,
   "metadata": {
    "collapsed": false
   },
   "outputs": [
    {
     "name": "stdout",
     "output_type": "stream",
     "text": [
      " Volume in drive C has no label.\n",
      " Volume Serial Number is 0CDD-5E1F\n",
      "\n",
      " Directory of C:\\Users\\manojkumar_bhosale\\Desktop\\MachineLearning\\codeGladiator\\cg-ai-hackathon-dataset\\cg-ai-hackathon-dataset\n",
      "\n",
      "04/25/2018  10:13 AM    <DIR>          .\n",
      "04/25/2018  10:13 AM    <DIR>          ..\n",
      "04/25/2018  10:13 AM               978 submission.csv\n",
      "04/25/2018  10:13 AM         2,492,816 TestDeliveries.csv\n",
      "04/25/2018  10:13 AM             8,017 Testmatches.csv\n",
      "04/25/2018  10:13 AM         9,274,803 TrainDeliveries.csv\n",
      "04/25/2018  10:13 AM            39,858 Trainmatches.csv\n",
      "               5 File(s)     11,816,472 bytes\n",
      "               2 Dir(s)  40,328,458,240 bytes free\n"
     ]
    }
   ],
   "source": [
    "%ls"
   ]
  },
  {
   "cell_type": "code",
   "execution_count": 4,
   "metadata": {
    "collapsed": true
   },
   "outputs": [],
   "source": [
    "import pandas as pd\n",
    "import numpy as np\n",
    "import matplotlib.pyplot as plt\n",
    "\n",
    "%matplotlib inline\n"
   ]
  },
  {
   "cell_type": "code",
   "execution_count": 61,
   "metadata": {
    "collapsed": false
   },
   "outputs": [
    {
     "data": {
      "text/plain": [
       "array(['Team5', 'Team1', 'Team4', 'Team2', 'Team6', 'Team3', 'Team8',\n",
       "       'Team7', 'Team10', 'Team9', 'Team11'], dtype=object)"
      ]
     },
     "execution_count": 61,
     "metadata": {},
     "output_type": "execute_result"
    }
   ],
   "source": [
    "trainDel = pd.read_csv(\"TrainDeliveries.csv\", index_col=\"match_id\")\n",
    "trainDel['bowling_team'].unique()"
   ]
  },
  {
   "cell_type": "code",
   "execution_count": 16,
   "metadata": {
    "collapsed": false
   },
   "outputs": [
    {
     "data": {
      "text/html": [
       "<div>\n",
       "<table border=\"1\" class=\"dataframe\">\n",
       "  <thead>\n",
       "    <tr style=\"text-align: right;\">\n",
       "      <th></th>\n",
       "      <th>inning</th>\n",
       "      <th>batting_team</th>\n",
       "      <th>bowling_team</th>\n",
       "      <th>over</th>\n",
       "      <th>ball</th>\n",
       "      <th>batsman</th>\n",
       "      <th>non_striker</th>\n",
       "      <th>bowler</th>\n",
       "      <th>is_super_over</th>\n",
       "      <th>wide_runs</th>\n",
       "      <th>bye_runs</th>\n",
       "      <th>legbye_runs</th>\n",
       "      <th>noball_runs</th>\n",
       "      <th>penalty_runs</th>\n",
       "      <th>batsman_runs</th>\n",
       "      <th>extra_runs</th>\n",
       "      <th>total_runs</th>\n",
       "      <th>player_dismissed</th>\n",
       "      <th>dismissal_kind</th>\n",
       "      <th>fielder</th>\n",
       "    </tr>\n",
       "    <tr>\n",
       "      <th>match_id</th>\n",
       "      <th></th>\n",
       "      <th></th>\n",
       "      <th></th>\n",
       "      <th></th>\n",
       "      <th></th>\n",
       "      <th></th>\n",
       "      <th></th>\n",
       "      <th></th>\n",
       "      <th></th>\n",
       "      <th></th>\n",
       "      <th></th>\n",
       "      <th></th>\n",
       "      <th></th>\n",
       "      <th></th>\n",
       "      <th></th>\n",
       "      <th></th>\n",
       "      <th></th>\n",
       "      <th></th>\n",
       "      <th></th>\n",
       "      <th></th>\n",
       "    </tr>\n",
       "  </thead>\n",
       "  <tbody>\n",
       "    <tr>\n",
       "      <th>1</th>\n",
       "      <td>1</td>\n",
       "      <td>Team1</td>\n",
       "      <td>Team5</td>\n",
       "      <td>1</td>\n",
       "      <td>1</td>\n",
       "      <td>Player 105</td>\n",
       "      <td>Player 354</td>\n",
       "      <td>Player 431</td>\n",
       "      <td>0</td>\n",
       "      <td>0</td>\n",
       "      <td>0</td>\n",
       "      <td>0</td>\n",
       "      <td>0</td>\n",
       "      <td>0</td>\n",
       "      <td>0</td>\n",
       "      <td>0</td>\n",
       "      <td>0</td>\n",
       "      <td>NaN</td>\n",
       "      <td>NaN</td>\n",
       "      <td>NaN</td>\n",
       "    </tr>\n",
       "    <tr>\n",
       "      <th>1</th>\n",
       "      <td>1</td>\n",
       "      <td>Team1</td>\n",
       "      <td>Team5</td>\n",
       "      <td>1</td>\n",
       "      <td>2</td>\n",
       "      <td>Player 105</td>\n",
       "      <td>Player 354</td>\n",
       "      <td>Player 431</td>\n",
       "      <td>0</td>\n",
       "      <td>0</td>\n",
       "      <td>0</td>\n",
       "      <td>0</td>\n",
       "      <td>0</td>\n",
       "      <td>0</td>\n",
       "      <td>0</td>\n",
       "      <td>0</td>\n",
       "      <td>0</td>\n",
       "      <td>NaN</td>\n",
       "      <td>NaN</td>\n",
       "      <td>NaN</td>\n",
       "    </tr>\n",
       "    <tr>\n",
       "      <th>1</th>\n",
       "      <td>1</td>\n",
       "      <td>Team1</td>\n",
       "      <td>Team5</td>\n",
       "      <td>1</td>\n",
       "      <td>3</td>\n",
       "      <td>Player 105</td>\n",
       "      <td>Player 354</td>\n",
       "      <td>Player 431</td>\n",
       "      <td>0</td>\n",
       "      <td>0</td>\n",
       "      <td>0</td>\n",
       "      <td>0</td>\n",
       "      <td>0</td>\n",
       "      <td>0</td>\n",
       "      <td>4</td>\n",
       "      <td>0</td>\n",
       "      <td>4</td>\n",
       "      <td>NaN</td>\n",
       "      <td>NaN</td>\n",
       "      <td>NaN</td>\n",
       "    </tr>\n",
       "    <tr>\n",
       "      <th>1</th>\n",
       "      <td>1</td>\n",
       "      <td>Team1</td>\n",
       "      <td>Team5</td>\n",
       "      <td>1</td>\n",
       "      <td>4</td>\n",
       "      <td>Player 105</td>\n",
       "      <td>Player 354</td>\n",
       "      <td>Player 431</td>\n",
       "      <td>0</td>\n",
       "      <td>0</td>\n",
       "      <td>0</td>\n",
       "      <td>0</td>\n",
       "      <td>0</td>\n",
       "      <td>0</td>\n",
       "      <td>0</td>\n",
       "      <td>0</td>\n",
       "      <td>0</td>\n",
       "      <td>NaN</td>\n",
       "      <td>NaN</td>\n",
       "      <td>NaN</td>\n",
       "    </tr>\n",
       "    <tr>\n",
       "      <th>1</th>\n",
       "      <td>1</td>\n",
       "      <td>Team1</td>\n",
       "      <td>Team5</td>\n",
       "      <td>1</td>\n",
       "      <td>5</td>\n",
       "      <td>Player 105</td>\n",
       "      <td>Player 354</td>\n",
       "      <td>Player 431</td>\n",
       "      <td>0</td>\n",
       "      <td>2</td>\n",
       "      <td>0</td>\n",
       "      <td>0</td>\n",
       "      <td>0</td>\n",
       "      <td>0</td>\n",
       "      <td>0</td>\n",
       "      <td>2</td>\n",
       "      <td>2</td>\n",
       "      <td>NaN</td>\n",
       "      <td>NaN</td>\n",
       "      <td>NaN</td>\n",
       "    </tr>\n",
       "  </tbody>\n",
       "</table>\n",
       "</div>"
      ],
      "text/plain": [
       "          inning batting_team bowling_team  over  ball     batsman  \\\n",
       "match_id                                                             \n",
       "1              1        Team1        Team5     1     1  Player 105   \n",
       "1              1        Team1        Team5     1     2  Player 105   \n",
       "1              1        Team1        Team5     1     3  Player 105   \n",
       "1              1        Team1        Team5     1     4  Player 105   \n",
       "1              1        Team1        Team5     1     5  Player 105   \n",
       "\n",
       "         non_striker      bowler  is_super_over  wide_runs  bye_runs  \\\n",
       "match_id                                                               \n",
       "1         Player 354  Player 431              0          0         0   \n",
       "1         Player 354  Player 431              0          0         0   \n",
       "1         Player 354  Player 431              0          0         0   \n",
       "1         Player 354  Player 431              0          0         0   \n",
       "1         Player 354  Player 431              0          2         0   \n",
       "\n",
       "          legbye_runs  noball_runs  penalty_runs  batsman_runs  extra_runs  \\\n",
       "match_id                                                                     \n",
       "1                   0            0             0             0           0   \n",
       "1                   0            0             0             0           0   \n",
       "1                   0            0             0             4           0   \n",
       "1                   0            0             0             0           0   \n",
       "1                   0            0             0             0           2   \n",
       "\n",
       "          total_runs player_dismissed dismissal_kind fielder  \n",
       "match_id                                                      \n",
       "1                  0              NaN            NaN     NaN  \n",
       "1                  0              NaN            NaN     NaN  \n",
       "1                  4              NaN            NaN     NaN  \n",
       "1                  0              NaN            NaN     NaN  \n",
       "1                  2              NaN            NaN     NaN  "
      ]
     },
     "execution_count": 16,
     "metadata": {},
     "output_type": "execute_result"
    }
   ],
   "source": [
    "trainDel.head()"
   ]
  },
  {
   "cell_type": "code",
   "execution_count": 17,
   "metadata": {
    "collapsed": false
   },
   "outputs": [
    {
     "data": {
      "text/plain": [
       "Index(['inning', 'batting_team', 'bowling_team', 'over', 'ball', 'batsman',\n",
       "       'non_striker', 'bowler', 'is_super_over', 'wide_runs', 'bye_runs',\n",
       "       'legbye_runs', 'noball_runs', 'penalty_runs', 'batsman_runs',\n",
       "       'extra_runs', 'total_runs', 'player_dismissed', 'dismissal_kind',\n",
       "       'fielder'],\n",
       "      dtype='object')"
      ]
     },
     "execution_count": 17,
     "metadata": {},
     "output_type": "execute_result"
    }
   ],
   "source": [
    "trainDel.columns"
   ]
  },
  {
   "cell_type": "code",
   "execution_count": 62,
   "metadata": {
    "collapsed": false,
    "scrolled": true
   },
   "outputs": [
    {
     "data": {
      "text/html": [
       "<div>\n",
       "<table border=\"1\" class=\"dataframe\">\n",
       "  <thead>\n",
       "    <tr style=\"text-align: right;\">\n",
       "      <th></th>\n",
       "      <th>season</th>\n",
       "      <th>city</th>\n",
       "      <th>team1</th>\n",
       "      <th>team2</th>\n",
       "      <th>toss_winner</th>\n",
       "      <th>toss_decision</th>\n",
       "      <th>result</th>\n",
       "      <th>dl_applied</th>\n",
       "      <th>winner</th>\n",
       "      <th>win_by_runs</th>\n",
       "      <th>win_by_wickets</th>\n",
       "      <th>player_of_match</th>\n",
       "      <th>venue</th>\n",
       "    </tr>\n",
       "    <tr>\n",
       "      <th>match_id</th>\n",
       "      <th></th>\n",
       "      <th></th>\n",
       "      <th></th>\n",
       "      <th></th>\n",
       "      <th></th>\n",
       "      <th></th>\n",
       "      <th></th>\n",
       "      <th></th>\n",
       "      <th></th>\n",
       "      <th></th>\n",
       "      <th></th>\n",
       "      <th></th>\n",
       "      <th></th>\n",
       "    </tr>\n",
       "  </thead>\n",
       "  <tbody>\n",
       "    <tr>\n",
       "      <th>1</th>\n",
       "      <td>2017</td>\n",
       "      <td>City1</td>\n",
       "      <td>Team1</td>\n",
       "      <td>Team5</td>\n",
       "      <td>Team5</td>\n",
       "      <td>field</td>\n",
       "      <td>normal</td>\n",
       "      <td>0</td>\n",
       "      <td>Team1</td>\n",
       "      <td>35</td>\n",
       "      <td>0</td>\n",
       "      <td>Player 467</td>\n",
       "      <td>Stadium1</td>\n",
       "    </tr>\n",
       "    <tr>\n",
       "      <th>2</th>\n",
       "      <td>2017</td>\n",
       "      <td>City2</td>\n",
       "      <td>Team2</td>\n",
       "      <td>Team4</td>\n",
       "      <td>Team4</td>\n",
       "      <td>field</td>\n",
       "      <td>normal</td>\n",
       "      <td>0</td>\n",
       "      <td>Team4</td>\n",
       "      <td>0</td>\n",
       "      <td>7</td>\n",
       "      <td>Player 405</td>\n",
       "      <td>Stadium2</td>\n",
       "    </tr>\n",
       "    <tr>\n",
       "      <th>3</th>\n",
       "      <td>2017</td>\n",
       "      <td>City3</td>\n",
       "      <td>Team3</td>\n",
       "      <td>Team6</td>\n",
       "      <td>Team6</td>\n",
       "      <td>field</td>\n",
       "      <td>normal</td>\n",
       "      <td>0</td>\n",
       "      <td>Team6</td>\n",
       "      <td>0</td>\n",
       "      <td>10</td>\n",
       "      <td>Player 85</td>\n",
       "      <td>Stadium3</td>\n",
       "    </tr>\n",
       "    <tr>\n",
       "      <th>4</th>\n",
       "      <td>2017</td>\n",
       "      <td>City4</td>\n",
       "      <td>Team4</td>\n",
       "      <td>Team8</td>\n",
       "      <td>Team8</td>\n",
       "      <td>field</td>\n",
       "      <td>normal</td>\n",
       "      <td>0</td>\n",
       "      <td>Team8</td>\n",
       "      <td>0</td>\n",
       "      <td>6</td>\n",
       "      <td>Player 145</td>\n",
       "      <td>Stadium4</td>\n",
       "    </tr>\n",
       "    <tr>\n",
       "      <th>5</th>\n",
       "      <td>2017</td>\n",
       "      <td>City5</td>\n",
       "      <td>Team5</td>\n",
       "      <td>Team7</td>\n",
       "      <td>Team5</td>\n",
       "      <td>bat</td>\n",
       "      <td>normal</td>\n",
       "      <td>0</td>\n",
       "      <td>Team5</td>\n",
       "      <td>15</td>\n",
       "      <td>0</td>\n",
       "      <td>Player 209</td>\n",
       "      <td>Stadium5</td>\n",
       "    </tr>\n",
       "  </tbody>\n",
       "</table>\n",
       "</div>"
      ],
      "text/plain": [
       "          season   city  team1  team2 toss_winner toss_decision  result  \\\n",
       "match_id                                                                  \n",
       "1           2017  City1  Team1  Team5       Team5         field  normal   \n",
       "2           2017  City2  Team2  Team4       Team4         field  normal   \n",
       "3           2017  City3  Team3  Team6       Team6         field  normal   \n",
       "4           2017  City4  Team4  Team8       Team8         field  normal   \n",
       "5           2017  City5  Team5  Team7       Team5           bat  normal   \n",
       "\n",
       "          dl_applied winner  win_by_runs  win_by_wickets player_of_match  \\\n",
       "match_id                                                                   \n",
       "1                  0  Team1           35               0      Player 467   \n",
       "2                  0  Team4            0               7      Player 405   \n",
       "3                  0  Team6            0              10       Player 85   \n",
       "4                  0  Team8            0               6      Player 145   \n",
       "5                  0  Team5           15               0      Player 209   \n",
       "\n",
       "             venue  \n",
       "match_id            \n",
       "1         Stadium1  \n",
       "2         Stadium2  \n",
       "3         Stadium3  \n",
       "4         Stadium4  \n",
       "5         Stadium5  "
      ]
     },
     "execution_count": 62,
     "metadata": {},
     "output_type": "execute_result"
    }
   ],
   "source": [
    "trainMatch = pd.read_csv(\"Trainmatches.csv\", index_col=\"id\")\n",
    "trainMatch.index.name=\"match_id\"\n",
    "trainMatch.head()"
   ]
  },
  {
   "cell_type": "code",
   "execution_count": 63,
   "metadata": {
    "collapsed": true
   },
   "outputs": [],
   "source": [
    "allData = trainDel.join(trainMatch)"
   ]
  },
  {
   "cell_type": "code",
   "execution_count": 27,
   "metadata": {
    "collapsed": false
   },
   "outputs": [],
   "source": [
    "from sklearn.preprocessing import LabelEncoder"
   ]
  },
  {
   "cell_type": "code",
   "execution_count": 28,
   "metadata": {
    "collapsed": true
   },
   "outputs": [],
   "source": [
    "enc = LabelEncoder()\n"
   ]
  },
  {
   "cell_type": "code",
   "execution_count": 34,
   "metadata": {
    "collapsed": false
   },
   "outputs": [
    {
     "data": {
      "text/plain": [
       "LabelEncoder()"
      ]
     },
     "execution_count": 34,
     "metadata": {},
     "output_type": "execute_result"
    }
   ],
   "source": [
    "enc.fit(allData.season)\n",
    "\n"
   ]
  },
  {
   "cell_type": "code",
   "execution_count": 35,
   "metadata": {
    "collapsed": true
   },
   "outputs": [],
   "source": [
    "allData.season = enc.transform(allData.season)"
   ]
  },
  {
   "cell_type": "code",
   "execution_count": 64,
   "metadata": {
    "collapsed": false,
    "scrolled": true
   },
   "outputs": [
    {
     "data": {
      "text/plain": [
       "array([2017, 2008, 2009, 2010, 2011, 2012, 2013, 2014], dtype=int64)"
      ]
     },
     "execution_count": 64,
     "metadata": {},
     "output_type": "execute_result"
    }
   ],
   "source": [
    "allData.season.unique()"
   ]
  },
  {
   "cell_type": "code",
   "execution_count": 38,
   "metadata": {
    "collapsed": false,
    "scrolled": true
   },
   "outputs": [
    {
     "data": {
      "text/plain": [
       "Index(['inning', 'batting_team', 'bowling_team', 'over', 'ball', 'batsman',\n",
       "       'non_striker', 'bowler', 'is_super_over', 'wide_runs', 'bye_runs',\n",
       "       'legbye_runs', 'noball_runs', 'penalty_runs', 'batsman_runs',\n",
       "       'extra_runs', 'total_runs', 'player_dismissed', 'dismissal_kind',\n",
       "       'fielder', 'season', 'city', 'team1', 'team2', 'toss_winner',\n",
       "       'toss_decision', 'result', 'dl_applied', 'winner', 'win_by_runs',\n",
       "       'win_by_wickets', 'player_of_match', 'venue'],\n",
       "      dtype='object')"
      ]
     },
     "execution_count": 38,
     "metadata": {},
     "output_type": "execute_result"
    }
   ],
   "source": [
    "allData.columns"
   ]
  },
  {
   "cell_type": "code",
   "execution_count": 65,
   "metadata": {
    "collapsed": true
   },
   "outputs": [],
   "source": [
    "colNeedEncoding = [ 'batting_team', 'bowling_team',  'batsman',\n",
    "       'non_striker', 'bowler',  'player_dismissed', 'dismissal_kind',\n",
    "       'fielder', 'season', 'city', 'team1', 'team2', 'toss_winner',\n",
    "       'toss_decision', 'result', 'winner', 'player_of_match', 'venue']\n",
    "#allData.venue.unique()"
   ]
  },
  {
   "cell_type": "code",
   "execution_count": 66,
   "metadata": {
    "collapsed": false
   },
   "outputs": [
    {
     "data": {
      "text/plain": [
       "array([nan, 'caught', 'bowled', 'run out', 'lbw', 'caught and bowled',\n",
       "       'stumped', 'retired hurt', 'hit wicket', 'obstructing the field'],\n",
       "      dtype=object)"
      ]
     },
     "execution_count": 66,
     "metadata": {},
     "output_type": "execute_result"
    }
   ],
   "source": [
    "allData.dismissal_kind.unique()"
   ]
  },
  {
   "cell_type": "code",
   "execution_count": 67,
   "metadata": {
    "collapsed": true
   },
   "outputs": [
    {
     "data": {
      "text/plain": [
       "inning                   0\n",
       "batting_team             0\n",
       "bowling_team             0\n",
       "over                     0\n",
       "ball                     0\n",
       "batsman                  0\n",
       "non_striker              0\n",
       "bowler                   0\n",
       "is_super_over            0\n",
       "wide_runs                0\n",
       "bye_runs                 0\n",
       "legbye_runs              0\n",
       "noball_runs              0\n",
       "penalty_runs             0\n",
       "batsman_runs             0\n",
       "extra_runs               0\n",
       "total_runs               0\n",
       "player_dismissed    112771\n",
       "dismissal_kind      112771\n",
       "fielder             114452\n",
       "season                   0\n",
       "city                     0\n",
       "team1                    0\n",
       "team2                    0\n",
       "toss_winner              0\n",
       "toss_decision            0\n",
       "result                   0\n",
       "dl_applied               0\n",
       "winner                  63\n",
       "win_by_runs              0\n",
       "win_by_wickets           0\n",
       "player_of_match          0\n",
       "venue                    0\n",
       "dtype: int64"
      ]
     },
     "execution_count": 67,
     "metadata": {},
     "output_type": "execute_result"
    }
   ],
   "source": [
    "allData.isnull().sum()"
   ]
  },
  {
   "cell_type": "code",
   "execution_count": 68,
   "metadata": {
    "collapsed": true
   },
   "outputs": [],
   "source": [
    "allData.player_dismissed.fillna(\"NA\", inplace=True)\n",
    "allData.dismissal_kind.fillna(\"NA\", inplace=True)\n",
    "allData.fielder.fillna(\"NA\", inplace=True)\n",
    "allData.winner.fillna(\"NA\", inplace=True)"
   ]
  },
  {
   "cell_type": "code",
   "execution_count": 69,
   "metadata": {
    "collapsed": false
   },
   "outputs": [
    {
     "data": {
      "text/plain": [
       "array(['NA', 'caught', 'bowled', 'run out', 'lbw', 'caught and bowled',\n",
       "       'stumped', 'retired hurt', 'hit wicket', 'obstructing the field'],\n",
       "      dtype=object)"
      ]
     },
     "execution_count": 69,
     "metadata": {},
     "output_type": "execute_result"
    }
   ],
   "source": [
    "allData.dismissal_kind.unique()"
   ]
  },
  {
   "cell_type": "code",
   "execution_count": 70,
   "metadata": {
    "collapsed": false
   },
   "outputs": [
    {
     "name": "stdout",
     "output_type": "stream",
     "text": [
      "batting_team\n",
      "bowling_team\n",
      "batsman\n",
      "non_striker\n",
      "bowler\n",
      "player_dismissed\n",
      "dismissal_kind\n",
      "fielder\n",
      "season\n",
      "city\n",
      "team1\n",
      "team2\n",
      "toss_winner\n",
      "toss_decision\n",
      "result\n",
      "winner\n",
      "player_of_match\n",
      "venue\n"
     ]
    }
   ],
   "source": [
    "encoderDict = {}\n",
    "for col in colNeedEncoding:\n",
    "        print(col)\n",
    "        enc = LabelEncoder()\n",
    "        enc.fit(allData[col])\n",
    "        allData[col] = enc.transform(allData[col])\n",
    "        encoderDict[col]=enc"
   ]
  },
  {
   "cell_type": "code",
   "execution_count": 71,
   "metadata": {
    "collapsed": true
   },
   "outputs": [
    {
     "data": {
      "text/plain": [
       "{'batsman': LabelEncoder(),\n",
       " 'batting_team': LabelEncoder(),\n",
       " 'bowler': LabelEncoder(),\n",
       " 'bowling_team': LabelEncoder(),\n",
       " 'city': LabelEncoder(),\n",
       " 'dismissal_kind': LabelEncoder(),\n",
       " 'fielder': LabelEncoder(),\n",
       " 'non_striker': LabelEncoder(),\n",
       " 'player_dismissed': LabelEncoder(),\n",
       " 'player_of_match': LabelEncoder(),\n",
       " 'result': LabelEncoder(),\n",
       " 'season': LabelEncoder(),\n",
       " 'team1': LabelEncoder(),\n",
       " 'team2': LabelEncoder(),\n",
       " 'toss_decision': LabelEncoder(),\n",
       " 'toss_winner': LabelEncoder(),\n",
       " 'venue': LabelEncoder(),\n",
       " 'winner': LabelEncoder()}"
      ]
     },
     "execution_count": 71,
     "metadata": {},
     "output_type": "execute_result"
    }
   ],
   "source": [
    "encoderDict"
   ]
  },
  {
   "cell_type": "code",
   "execution_count": 73,
   "metadata": {
    "collapsed": true
   },
   "outputs": [
    {
     "data": {
      "text/plain": [
       "inning              0\n",
       "batting_team        0\n",
       "bowling_team        0\n",
       "over                0\n",
       "ball                0\n",
       "batsman             0\n",
       "non_striker         0\n",
       "bowler              0\n",
       "is_super_over       0\n",
       "wide_runs           0\n",
       "bye_runs            0\n",
       "legbye_runs         0\n",
       "noball_runs         0\n",
       "penalty_runs        0\n",
       "batsman_runs        0\n",
       "extra_runs          0\n",
       "total_runs          0\n",
       "player_dismissed    0\n",
       "dismissal_kind      0\n",
       "fielder             0\n",
       "season              0\n",
       "city                0\n",
       "team1               0\n",
       "team2               0\n",
       "toss_winner         0\n",
       "toss_decision       0\n",
       "result              0\n",
       "dl_applied          0\n",
       "winner              0\n",
       "win_by_runs         0\n",
       "win_by_wickets      0\n",
       "player_of_match     0\n",
       "venue               0\n",
       "dtype: int64"
      ]
     },
     "execution_count": 73,
     "metadata": {},
     "output_type": "execute_result"
    }
   ],
   "source": [
    "allData.isnull().sum()"
   ]
  },
  {
   "cell_type": "code",
   "execution_count": 74,
   "metadata": {
    "collapsed": true
   },
   "outputs": [
    {
     "data": {
      "text/html": [
       "<div>\n",
       "<table border=\"1\" class=\"dataframe\">\n",
       "  <thead>\n",
       "    <tr style=\"text-align: right;\">\n",
       "      <th></th>\n",
       "      <th>inning</th>\n",
       "      <th>batting_team</th>\n",
       "      <th>bowling_team</th>\n",
       "      <th>over</th>\n",
       "      <th>ball</th>\n",
       "      <th>batsman</th>\n",
       "      <th>non_striker</th>\n",
       "      <th>bowler</th>\n",
       "      <th>is_super_over</th>\n",
       "      <th>wide_runs</th>\n",
       "      <th>...</th>\n",
       "      <th>team2</th>\n",
       "      <th>toss_winner</th>\n",
       "      <th>toss_decision</th>\n",
       "      <th>result</th>\n",
       "      <th>dl_applied</th>\n",
       "      <th>winner</th>\n",
       "      <th>win_by_runs</th>\n",
       "      <th>win_by_wickets</th>\n",
       "      <th>player_of_match</th>\n",
       "      <th>venue</th>\n",
       "    </tr>\n",
       "    <tr>\n",
       "      <th>match_id</th>\n",
       "      <th></th>\n",
       "      <th></th>\n",
       "      <th></th>\n",
       "      <th></th>\n",
       "      <th></th>\n",
       "      <th></th>\n",
       "      <th></th>\n",
       "      <th></th>\n",
       "      <th></th>\n",
       "      <th></th>\n",
       "      <th></th>\n",
       "      <th></th>\n",
       "      <th></th>\n",
       "      <th></th>\n",
       "      <th></th>\n",
       "      <th></th>\n",
       "      <th></th>\n",
       "      <th></th>\n",
       "      <th></th>\n",
       "      <th></th>\n",
       "      <th></th>\n",
       "    </tr>\n",
       "  </thead>\n",
       "  <tbody>\n",
       "    <tr>\n",
       "      <th>1</th>\n",
       "      <td>1</td>\n",
       "      <td>0</td>\n",
       "      <td>6</td>\n",
       "      <td>1</td>\n",
       "      <td>1</td>\n",
       "      <td>7</td>\n",
       "      <td>252</td>\n",
       "      <td>261</td>\n",
       "      <td>0</td>\n",
       "      <td>0</td>\n",
       "      <td>...</td>\n",
       "      <td>6</td>\n",
       "      <td>6</td>\n",
       "      <td>1</td>\n",
       "      <td>1</td>\n",
       "      <td>0</td>\n",
       "      <td>1</td>\n",
       "      <td>35</td>\n",
       "      <td>0</td>\n",
       "      <td>162</td>\n",
       "      <td>0</td>\n",
       "    </tr>\n",
       "    <tr>\n",
       "      <th>1</th>\n",
       "      <td>1</td>\n",
       "      <td>0</td>\n",
       "      <td>6</td>\n",
       "      <td>1</td>\n",
       "      <td>2</td>\n",
       "      <td>7</td>\n",
       "      <td>252</td>\n",
       "      <td>261</td>\n",
       "      <td>0</td>\n",
       "      <td>0</td>\n",
       "      <td>...</td>\n",
       "      <td>6</td>\n",
       "      <td>6</td>\n",
       "      <td>1</td>\n",
       "      <td>1</td>\n",
       "      <td>0</td>\n",
       "      <td>1</td>\n",
       "      <td>35</td>\n",
       "      <td>0</td>\n",
       "      <td>162</td>\n",
       "      <td>0</td>\n",
       "    </tr>\n",
       "    <tr>\n",
       "      <th>1</th>\n",
       "      <td>1</td>\n",
       "      <td>0</td>\n",
       "      <td>6</td>\n",
       "      <td>1</td>\n",
       "      <td>3</td>\n",
       "      <td>7</td>\n",
       "      <td>252</td>\n",
       "      <td>261</td>\n",
       "      <td>0</td>\n",
       "      <td>0</td>\n",
       "      <td>...</td>\n",
       "      <td>6</td>\n",
       "      <td>6</td>\n",
       "      <td>1</td>\n",
       "      <td>1</td>\n",
       "      <td>0</td>\n",
       "      <td>1</td>\n",
       "      <td>35</td>\n",
       "      <td>0</td>\n",
       "      <td>162</td>\n",
       "      <td>0</td>\n",
       "    </tr>\n",
       "    <tr>\n",
       "      <th>1</th>\n",
       "      <td>1</td>\n",
       "      <td>0</td>\n",
       "      <td>6</td>\n",
       "      <td>1</td>\n",
       "      <td>4</td>\n",
       "      <td>7</td>\n",
       "      <td>252</td>\n",
       "      <td>261</td>\n",
       "      <td>0</td>\n",
       "      <td>0</td>\n",
       "      <td>...</td>\n",
       "      <td>6</td>\n",
       "      <td>6</td>\n",
       "      <td>1</td>\n",
       "      <td>1</td>\n",
       "      <td>0</td>\n",
       "      <td>1</td>\n",
       "      <td>35</td>\n",
       "      <td>0</td>\n",
       "      <td>162</td>\n",
       "      <td>0</td>\n",
       "    </tr>\n",
       "    <tr>\n",
       "      <th>1</th>\n",
       "      <td>1</td>\n",
       "      <td>0</td>\n",
       "      <td>6</td>\n",
       "      <td>1</td>\n",
       "      <td>5</td>\n",
       "      <td>7</td>\n",
       "      <td>252</td>\n",
       "      <td>261</td>\n",
       "      <td>0</td>\n",
       "      <td>2</td>\n",
       "      <td>...</td>\n",
       "      <td>6</td>\n",
       "      <td>6</td>\n",
       "      <td>1</td>\n",
       "      <td>1</td>\n",
       "      <td>0</td>\n",
       "      <td>1</td>\n",
       "      <td>35</td>\n",
       "      <td>0</td>\n",
       "      <td>162</td>\n",
       "      <td>0</td>\n",
       "    </tr>\n",
       "  </tbody>\n",
       "</table>\n",
       "<p>5 rows × 33 columns</p>\n",
       "</div>"
      ],
      "text/plain": [
       "          inning  batting_team  bowling_team  over  ball  batsman  \\\n",
       "match_id                                                            \n",
       "1              1             0             6     1     1        7   \n",
       "1              1             0             6     1     2        7   \n",
       "1              1             0             6     1     3        7   \n",
       "1              1             0             6     1     4        7   \n",
       "1              1             0             6     1     5        7   \n",
       "\n",
       "          non_striker  bowler  is_super_over  wide_runs  ...    team2  \\\n",
       "match_id                                                 ...            \n",
       "1                 252     261              0          0  ...        6   \n",
       "1                 252     261              0          0  ...        6   \n",
       "1                 252     261              0          0  ...        6   \n",
       "1                 252     261              0          0  ...        6   \n",
       "1                 252     261              0          2  ...        6   \n",
       "\n",
       "          toss_winner  toss_decision  result  dl_applied  winner  win_by_runs  \\\n",
       "match_id                                                                        \n",
       "1                   6              1       1           0       1           35   \n",
       "1                   6              1       1           0       1           35   \n",
       "1                   6              1       1           0       1           35   \n",
       "1                   6              1       1           0       1           35   \n",
       "1                   6              1       1           0       1           35   \n",
       "\n",
       "          win_by_wickets  player_of_match  venue  \n",
       "match_id                                          \n",
       "1                      0              162      0  \n",
       "1                      0              162      0  \n",
       "1                      0              162      0  \n",
       "1                      0              162      0  \n",
       "1                      0              162      0  \n",
       "\n",
       "[5 rows x 33 columns]"
      ]
     },
     "execution_count": 74,
     "metadata": {},
     "output_type": "execute_result"
    }
   ],
   "source": [
    "allData.head()"
   ]
  }
 ],
 "metadata": {
  "anaconda-cloud": {},
  "kernelspec": {
   "display_name": "Python [default]",
   "language": "python",
   "name": "python3"
  },
  "language_info": {
   "codemirror_mode": {
    "name": "ipython",
    "version": 3
   },
   "file_extension": ".py",
   "mimetype": "text/x-python",
   "name": "python",
   "nbconvert_exporter": "python",
   "pygments_lexer": "ipython3",
   "version": "3.5.2"
  }
 },
 "nbformat": 4,
 "nbformat_minor": 1
}
