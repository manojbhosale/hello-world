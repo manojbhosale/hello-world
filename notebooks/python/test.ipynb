{
 "cells": [
  {
   "cell_type": "code",
   "execution_count": 106,
   "metadata": {
    "collapsed": true
   },
   "outputs": [],
   "source": [
    "import itertools"
   ]
  },
  {
   "cell_type": "code",
   "execution_count": 137,
   "metadata": {
    "collapsed": false
   },
   "outputs": [],
   "source": [
    "#perms = list(itertools.permutations([[1,0,0,0],[1,0,0,0],[0,0,1,0]]))\n",
    "perms = [[1,0,0,0],[1,0,0,0],[0,0,1,0]]\n",
    "#perms = [[0,1,0,0,1],[0,0,0,0,0],[0,0,0,0,0], [0,0,0,0,0],[0,0,0,0,1] ]"
   ]
  },
  {
   "cell_type": "code",
   "execution_count": 138,
   "metadata": {
    "collapsed": false
   },
   "outputs": [
    {
     "data": {
      "text/plain": [
       "[[1, 0, 0, 0], [1, 0, 0, 0], [0, 0, 1, 0]]"
      ]
     },
     "execution_count": 138,
     "metadata": {},
     "output_type": "execute_result"
    }
   ],
   "source": [
    "perms"
   ]
  },
  {
   "cell_type": "code",
   "execution_count": 139,
   "metadata": {
    "collapsed": false
   },
   "outputs": [
    {
     "data": {
      "text/plain": [
       "[[1, 0, 0, 0]]"
      ]
     },
     "execution_count": 139,
     "metadata": {},
     "output_type": "execute_result"
    }
   ],
   "source": [
    "perms[:1]"
   ]
  },
  {
   "cell_type": "code",
   "execution_count": 140,
   "metadata": {
    "collapsed": false
   },
   "outputs": [
    {
     "name": "stdout",
     "output_type": "stream",
     "text": [
      "1\n",
      "0\n",
      "0\n",
      "0\n",
      "1\n",
      "0\n",
      "0\n",
      "0\n",
      "0\n",
      "0\n",
      "1\n",
      "0\n"
     ]
    },
    {
     "data": {
      "text/plain": [
       "[([0, 0], [1, 0], [2, 2]),\n",
       " ([0, 0], [2, 2], [1, 0]),\n",
       " ([1, 0], [0, 0], [2, 2]),\n",
       " ([1, 0], [2, 2], [0, 0]),\n",
       " ([2, 2], [0, 0], [1, 0]),\n",
       " ([2, 2], [1, 0], [0, 0])]"
      ]
     },
     "execution_count": 140,
     "metadata": {},
     "output_type": "execute_result"
    }
   ],
   "source": [
    "indexes=[]\n",
    "for i in range(len(perms)):\n",
    "    for j in range(len(perms[i])):\n",
    "        print(perms[i][j])\n",
    "        if perms[i][j] == 1:\n",
    "            indexes.append([i,j])\n",
    "#indexes       \n",
    "iperm = list(itertools.permutations(indexes))\n",
    "iperm"
   ]
  },
  {
   "cell_type": "code",
   "execution_count": 143,
   "metadata": {
    "collapsed": false
   },
   "outputs": [],
   "source": [
    "\n",
    "def getMaxDist(row):\n",
    "    for i in range(len(row)):\n",
    "        if i == 0:\n",
    "            continue\n",
    "        maxDist = distAll(row[i],row[:i])\n",
    "        print(i, maxDist)\n",
    "            \n",
    "    return maxDist\n",
    "\n",
    "def dist(cell1, cell2):\n",
    "    mx = max(abs(cell1[0]-cell2[0]),abs(cell1[1]-cell2[1]))\n",
    "    return mx\n",
    "\n",
    "def distAll(cell, allcells):\n",
    "    x = 0\n",
    "    prev = 0\n",
    "    for i in allcells:\n",
    "        x = dist(cell, i)\n",
    "        if x > prev:\n",
    "            prev = x\n",
    "    return prev"
   ]
  },
  {
   "cell_type": "code",
   "execution_count": 111,
   "metadata": {
    "collapsed": false
   },
   "outputs": [
    {
     "data": {
      "text/plain": [
       "False"
      ]
     },
     "execution_count": 111,
     "metadata": {},
     "output_type": "execute_result"
    }
   ],
   "source": [
    "[1,0] == [1,1]"
   ]
  },
  {
   "cell_type": "code",
   "execution_count": 130,
   "metadata": {
    "collapsed": false
   },
   "outputs": [
    {
     "name": "stdout",
     "output_type": "stream",
     "text": [
      "2\n",
      "2\n"
     ]
    }
   ],
   "source": [
    "print(dist([1, 0], [2, 2]))\n",
    "print(dist([0, 0], [2, 2]))"
   ]
  },
  {
   "cell_type": "code",
   "execution_count": 144,
   "metadata": {
    "collapsed": false,
    "scrolled": false
   },
   "outputs": [
    {
     "name": "stdout",
     "output_type": "stream",
     "text": [
      "2\n"
     ]
    }
   ],
   "source": [
    "prev = 0\n",
    "for i in range(len(iperm)):\n",
    "    #print(iperm[i])\n",
    "    mx = getMaxDist(iperm[i])\n",
    "    #print(mx)\n",
    "    if i == 0:\n",
    "        prev = mx\n",
    "        #print(mx)\n",
    "        continue\n",
    "    if mx < prev:\n",
    "        prev = mx\n",
    "        \n",
    "print(prev)"
   ]
  },
  {
   "cell_type": "code",
   "execution_count": null,
   "metadata": {
    "collapsed": true
   },
   "outputs": [],
   "source": [
    "\n",
    "\n",
    "    "
   ]
  }
 ],
 "metadata": {
  "anaconda-cloud": {},
  "kernelspec": {
   "display_name": "Python [default]",
   "language": "python",
   "name": "python3"
  },
  "language_info": {
   "codemirror_mode": {
    "name": "ipython",
    "version": 3
   },
   "file_extension": ".py",
   "mimetype": "text/x-python",
   "name": "python",
   "nbconvert_exporter": "python",
   "pygments_lexer": "ipython3",
   "version": "3.5.2"
  }
 },
 "nbformat": 4,
 "nbformat_minor": 1
}
